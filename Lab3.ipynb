{
 "cells": [
  {
   "cell_type": "code",
   "execution_count": 2,
   "metadata": {},
   "outputs": [],
   "source": [
    "\n",
    "from sklearn.ensemble import GradientBoostingClassifier\n",
    "from sklearn.utils import resample\n",
    "from sklearn.model_selection import GridSearchCV\n",
    "from sklearn.metrics import accuracy_score\n",
    "import numpy as np\n",
    "import pandas as pd\n",
    "from sklearn.model_selection import train_test_split"
   ]
  },
  {
   "cell_type": "code",
   "execution_count": 4,
   "metadata": {},
   "outputs": [
    {
     "name": "stdout",
     "output_type": "stream",
     "text": [
      "Train set shape: (111479, 11) (111479,)\n",
      "Validation set shape: (23888, 11) (23888,)\n",
      "Test set shape: (23889, 11) (23889,)\n"
     ]
    }
   ],
   "source": [
    "\n",
    "# Load your data from the CSV file\n",
    "file_path = 'your_data.csv'  # Replace with the path to your CSV file\n",
    "df = pd.read_csv(file_path)\n",
    "\n",
    "# Specify the features (X) and target variable (y) columns\n",
    "# Replace 'target_column' with the actual name of your target variable column\n",
    "X = df.drop('smoking', axis=1)\n",
    "y = df['smoking']\n",
    "\n",
    "# Split the data into train, validate, and test sets (70%, 15%, 15%)\n",
    "# Adjust random_state for reproducibility\n",
    "X_train, X_temp, y_train, y_temp = train_test_split(X, y, test_size=0.3, random_state=42)\n",
    "X_validate, X_test, y_validate, y_test = train_test_split(X_temp, y_temp, test_size=0.5, random_state=42)\n",
    "\n",
    "# Display the shapes of the resulting sets\n",
    "print(\"Train set shape:\", X_train.shape, y_train.shape)\n",
    "print(\"Validation set shape:\", X_validate.shape, y_validate.shape)\n",
    "print(\"Test set shape:\", X_test.shape, y_test.shape)\n"
   ]
  },
  {
   "cell_type": "code",
   "execution_count": 5,
   "metadata": {},
   "outputs": [],
   "source": [
    "# Assuming X_train, y_train, X_validate, y_validate, X_test, y_test are your train, validate, and test data\n",
    "\n",
    "# Define the number of base models (gradient boosting classifiers)\n",
    "num_base_models = 10  # You can adjust this based on your preference\n",
    "\n",
    "def bagged_gradient_boosting(X_train, y_train, X_validate, y_validate, num_base_models):\n",
    "    # Step 1: Train on the training data\n",
    "    predictions = []\n",
    "\n",
    "    for _ in range(num_base_models):\n",
    "        # Bootstrap sampling (sampling with replacement)\n",
    "        X_sampled, y_sampled = resample(X_train, y_train, replace=True, random_state=None)\n",
    "\n",
    "        # Create and train the base gradient boosting model\n",
    "        base_model = GradientBoostingClassifier()\n",
    "\n",
    "        # Hyperparameter tuning with grid search (including learning rate)\n",
    "        param_grid = {'learning_rate': [0.001, 0.01, 0.1, 0.2],  # Example values for learning rate\n",
    "                      'n_estimators': [50, 100, 200]}  # Additional hyperparameters\n",
    "        grid_search = GridSearchCV(base_model, param_grid, cv=5, scoring='accuracy')\n",
    "        grid_search.fit(X_sampled, y_sampled)\n",
    "        best_model = grid_search.best_estimator_\n",
    "\n",
    "        # Make predictions on the validation set\n",
    "        y_pred_validate = best_model.predict(X_validate)\n",
    "        predictions.append(y_pred_validate)\n",
    "\n",
    "    # Combine predictions through majority voting for validation\n",
    "    ensemble_predictions_validate = np.round(np.mean(predictions, axis=0))\n",
    "\n",
    "    return best_model, ensemble_predictions_validate  # Return the final trained model and validation predictions\n",
    "\n"
   ]
  },
  {
   "cell_type": "code",
   "execution_count": null,
   "metadata": {},
   "outputs": [],
   "source": [
    "# Example usage:\n",
    "trained_model, validation_predictions = bagged_gradient_boosting(X_train, y_train, X_validate, y_validate, num_base_models)\n",
    "\n",
    "\n",
    "\n",
    "\n"
   ]
  },
  {
   "cell_type": "code",
   "execution_count": null,
   "metadata": {},
   "outputs": [],
   "source": [
    "# Evaluate accuracy on the test set\n",
    "test_predictions = trained_model.predict(X_test)\n",
    "accuracy_test = accuracy_score(y_test, test_predictions)\n",
    "print(f\"Bagged Gradient Boosting Test Accuracy: {accuracy_test}\")"
   ]
  }
 ],
 "metadata": {
  "kernelspec": {
   "display_name": "Python 3",
   "language": "python",
   "name": "python3"
  },
  "language_info": {
   "codemirror_mode": {
    "name": "ipython",
    "version": 3
   },
   "file_extension": ".py",
   "mimetype": "text/x-python",
   "name": "python",
   "nbconvert_exporter": "python",
   "pygments_lexer": "ipython3",
   "version": "3.10.13"
  }
 },
 "nbformat": 4,
 "nbformat_minor": 2
}
